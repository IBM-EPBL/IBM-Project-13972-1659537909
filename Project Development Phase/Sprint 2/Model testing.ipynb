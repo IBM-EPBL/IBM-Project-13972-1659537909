{
  "nbformat": 4,
  "nbformat_minor": 0,
  "metadata": {
    "colab": {
      "provenance": []
    },
    "kernelspec": {
      "name": "python3",
      "display_name": "Python 3"
    },
    "language_info": {
      "name": "python"
    },
    "accelerator": "GPU",
    "gpuClass": "standard"
  },
  "cells": [
    {
      "cell_type": "markdown",
      "source": [
        "Testing the model"
      ],
      "metadata": {
        "id": "NCLW-wwZ9B0M"
      }
    },
    {
      "cell_type": "markdown",
      "source": [
        "Importing Libraries"
      ],
      "metadata": {
        "id": "r1_iRBn89BvJ"
      }
    },
    {
      "cell_type": "code",
      "source": [
        "from tensorflow.keras.models import load_model\n",
        "from tensorflow.keras.preprocessing import image\n",
        "import numpy as np\n",
        "from tensorflow.keras.models import Sequential \n",
        "model = load_model(\"hand.h5\")\n",
        "path = '/content/drive/MyDrive/IBM gesture/gesture/sample/istockphoto-1079805796-612x612.jpg'\n"
      ],
      "metadata": {
        "id": "BtOwzouu7U2v"
      },
      "execution_count": 70,
      "outputs": []
    },
    {
      "cell_type": "markdown",
      "source": [
        "Plotting the image"
      ],
      "metadata": {
        "id": "XjnalzLj9OSM"
      }
    },
    {
      "cell_type": "code",
      "source": [
        "%pylab inline\n",
        "import matplotlib.pyplot as plt\n",
        "import matplotlib.image as mpimg\n",
        "imgs = mpimg.imread(path)\n",
        "imgplot = plt.imshow(imgs)\n",
        "plt.show()"
      ],
      "metadata": {
        "colab": {
          "base_uri": "https://localhost:8080/",
          "height": 286
        },
        "id": "JThVnK7l9N6U",
        "outputId": "e28b6434-f5b5-45e9-c0f0-cac33c2607cf"
      },
      "execution_count": 71,
      "outputs": [
        {
          "output_type": "stream",
          "name": "stdout",
          "text": [
            "Populating the interactive namespace from numpy and matplotlib\n"
          ]
        },
        {
          "output_type": "display_data",
          "data": {
            "text/plain": [
              "<Figure size 432x288 with 1 Axes>"
            ],
            "image/png": "[encoded data removed]"
          },
          "metadata": {
            "needs_background": "light"
          }
        }
      ]
    },
    {
      "cell_type": "code",
      "source": [
        "img = image.load_img(path,\n",
        "                     color_mode='grayscale',\n",
        "                     target_size= (64,64))\n",
        "x = image.img_to_array(img)#image to array\n",
        "x.shape"
      ],
      "metadata": {
        "colab": {
          "base_uri": "https://localhost:8080/"
        },
        "id": "4651VdpbARxC",
        "outputId": "089bfffc-4fa8-42ca-8970-fecde431147d"
      },
      "execution_count": 72,
      "outputs": [
        {
          "output_type": "execute_result",
          "data": {
            "text/plain": [
              "(64, 64, 1)"
            ]
          },
          "metadata": {},
          "execution_count": 72
        }
      ]
    },
    {
      "cell_type": "code",
      "source": [
        "type(x)"
      ],
      "metadata": {
        "colab": {
          "base_uri": "https://localhost:8080/"
        },
        "id": "Zrz9UrDiARuh",
        "outputId": "86caf2fc-1942-4f8d-9138-f1f5064cdb23"
      },
      "execution_count": 73,
      "outputs": [
        {
          "output_type": "execute_result",
          "data": {
            "text/plain": [
              "numpy.ndarray"
            ]
          },
          "metadata": {},
          "execution_count": 73
        }
      ]
    },
    {
      "cell_type": "code",
      "source": [
        "x = np.expand_dims(x,axis = 0)"
      ],
      "metadata": {
        "id": "U79nIpwnARpz"
      },
      "execution_count": 74,
      "outputs": []
    },
    {
      "cell_type": "code",
      "source": [
        "x.shape"
      ],
      "metadata": {
        "colab": {
          "base_uri": "https://localhost:8080/"
        },
        "id": "aKsIpypFARmq",
        "outputId": "75be67e0-386e-4166-deb1-7fd95e9d7d74"
      },
      "execution_count": 75,
      "outputs": [
        {
          "output_type": "execute_result",
          "data": {
            "text/plain": [
              "(1, 64, 64, 1)"
            ]
          },
          "metadata": {},
          "execution_count": 75
        }
      ]
    },
    {
      "cell_type": "markdown",
      "source": [
        "Predict Result"
      ],
      "metadata": {
        "id": "jBHJRB3fAeD_"
      }
    },
    {
      "cell_type": "code",
      "source": [
        "testX_arg = np.argmax(x, axis=1)\n",
        "y_pred = np.argmax(model.predict(x), axis=1)\n",
        "y_true = np.argmax(x, axis=1)\n",
        "print(y_pred)\n",
        "print(y_pred.shape)"
      ],
      "metadata": {
        "colab": {
          "base_uri": "https://localhost:8080/"
        },
        "id": "AbBTN8miARbG",
        "outputId": "6670202a-e00a-48e9-cb77-859f38732c44"
      },
      "execution_count": 76,
      "outputs": [
        {
          "output_type": "stream",
          "name": "stdout",
          "text": [
            "1/1 [==============================] - 0s 52ms/step\n",
            "[5]\n",
            "(1,)\n"
          ]
        }
      ]
    },
    {
      "cell_type": "code",
      "source": [
        "index=['0','1','2','3','4','5']\n",
        "result=str(index[y_pred[0]])\n",
        "result"
      ],
      "metadata": {
        "colab": {
          "base_uri": "https://localhost:8080/",
          "height": 36
        },
        "id": "QcCGIn28CgZl",
        "outputId": "dfdca6d2-21a7-46fd-d859-963968cef9b7"
      },
      "execution_count": 77,
      "outputs": [
        {
          "output_type": "execute_result",
          "data": {
            "text/plain": [
              "'5'"
            ],
            "application/vnd.google.colaboratory.intrinsic+json": {
              "type": "string"
            }
          },
          "metadata": {},
          "execution_count": 77
        }
      ]
    },
    {
      "cell_type": "code",
      "source": [
        "import numpy as np\n",
        "p = []\n",
        "\n",
        "for i in range(0,6):\n",
        "    for j in range(0,5):\n",
        "        path = \"/content/drive/MyDrive/IBM gesture/gesture/test/test/\"+str(i)+\"/\"+str(j)+\".jpg\"\n",
        "        img = image.load_img(path,color_mode = \"grayscale\",target_size= (64,64))\n",
        "        x = image.img_to_array(img)\n",
        "        x = np.expand_dims(x,axis = 0)\n",
        "        pred = np.argmax(model.predict(x), axis=-1)\n",
        "        p.append(pred)\n",
        "\n",
        "print(p)"
      ],
      "metadata": {
        "colab": {
          "base_uri": "https://localhost:8080/"
        },
        "id": "IkYKK9vOGCmd",
        "outputId": "45210e5a-dd82-4732-b94f-a416a7bc1636"
      },
      "execution_count": 78,
      "outputs": [
        {
          "output_type": "stream",
          "name": "stdout",
          "text": [
            "1/1 [==============================] - 0s 17ms/step\n",
            "1/1 [==============================] - 0s 16ms/step\n",
            "1/1 [==============================] - 0s 20ms/step\n",
            "1/1 [==============================] - 0s 17ms/step\n",
            "1/1 [==============================] - 0s 18ms/step\n",
            "1/1 [==============================] - 0s 16ms/step\n",
            "1/1 [==============================] - 0s 18ms/step\n",
            "1/1 [==============================] - 0s 17ms/step\n",
            "1/1 [==============================] - 0s 16ms/step\n",
            "1/1 [==============================] - 0s 19ms/step\n",
            "1/1 [==============================] - 0s 16ms/step\n",
            "1/1 [==============================] - 0s 15ms/step\n",
            "1/1 [==============================] - 0s 15ms/step\n",
            "1/1 [==============================] - 0s 15ms/step\n",
            "1/1 [==============================] - 0s 16ms/step\n",
            "1/1 [==============================] - 0s 16ms/step\n",
            "1/1 [==============================] - 0s 14ms/step\n",
            "1/1 [==============================] - 0s 17ms/step\n",
            "1/1 [==============================] - 0s 18ms/step\n",
            "1/1 [==============================] - 0s 18ms/step\n",
            "1/1 [==============================] - 0s 17ms/step\n",
            "1/1 [==============================] - 0s 21ms/step\n",
            "1/1 [==============================] - 0s 16ms/step\n",
            "1/1 [==============================] - 0s 17ms/step\n",
            "1/1 [==============================] - 0s 16ms/step\n",
            "1/1 [==============================] - 0s 14ms/step\n",
            "1/1 [==============================] - 0s 15ms/step\n",
            "1/1 [==============================] - 0s 15ms/step\n",
            "1/1 [==============================] - 0s 18ms/step\n",
            "1/1 [==============================] - 0s 16ms/step\n",
            "[array([0]), array([3]), array([0]), array([0]), array([0]), array([1]), array([1]), array([1]), array([1]), array([2]), array([2]), array([3]), array([1]), array([2]), array([2]), array([3]), array([3]), array([3]), array([4]), array([3]), array([4]), array([4]), array([4]), array([4]), array([4]), array([5]), array([5]), array([5]), array([5]), array([5])]\n"
          ]
        }
      ]
    },
    {
      "cell_type": "code",
      "source": [
        "result = []\n",
        "index=['0','1','2','3','4','5']\n",
        "for i in p:\n",
        "    result.append(index[i[0]])\n",
        "    \n",
        "print(result)"
      ],
      "metadata": {
        "colab": {
          "base_uri": "https://localhost:8080/"
        },
        "id": "H-DKTKUYGWAd",
        "outputId": "3e93e1cd-476f-4e95-eca2-59a4b5f3b4c5"
      },
      "execution_count": 79,
      "outputs": [
        {
          "output_type": "stream",
          "name": "stdout",
          "text": [
            "['0', '3', '0', '0', '0', '1', '1', '1', '1', '2', '2', '3', '1', '2', '2', '3', '3', '3', '4', '3', '4', '4', '4', '4', '4', '5', '5', '5', '5', '5']\n"
          ]
        }
      ]
    }
  ]
}