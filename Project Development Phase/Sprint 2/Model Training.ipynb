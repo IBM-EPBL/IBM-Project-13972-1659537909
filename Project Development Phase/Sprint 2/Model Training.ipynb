{
  "nbformat": 4,
  "nbformat_minor": 0,
  "metadata": {
    "colab": {
      "provenance": []
    },
    "kernelspec": {
      "name": "python3",
      "display_name": "Python 3"
    },
    "language_info": {
      "name": "python"
    },
    "accelerator": "GPU",
    "gpuClass": "standard"
  },
  "cells": [
    {
      "cell_type": "markdown",
      "source": [
        "Model building "
      ],
      "metadata": {
        "id": "GAAM_DA1iYWW"
      }
    },
    {
      "cell_type": "markdown",
      "source": [
        "Importing libaries"
      ],
      "metadata": {
        "id": "Srv0q7dvijhN"
      }
    },
    {
      "cell_type": "code",
      "execution_count": 1,
      "metadata": {
        "id": "LRr3j5skh32_"
      },
      "outputs": [],
      "source": [
        "\n",
        "import numpy as np\n",
        "import tensorflow as tf\n",
        "from tensorflow.keras.models import Sequential \n",
        "from tensorflow.keras.layers import Dense,Flatten, Dropout\n",
        "from tensorflow.keras.layers import Convolution2D,MaxPooling2D \n",
        "from tensorflow.keras.preprocessing.image import ImageDataGenerator"
      ]
    },
    {
      "cell_type": "code",
      "source": [
        "from tensorflow.keras.preprocessing.image import ImageDataGenerator"
      ],
      "metadata": {
        "id": "dAcBeGMSynAW"
      },
      "execution_count": 2,
      "outputs": []
    },
    {
      "cell_type": "markdown",
      "source": [
        "Augmenting the data"
      ],
      "metadata": {
        "id": "kcNP-s-8ipPN"
      }
    },
    {
      "cell_type": "code",
      "source": [
        "train_datagen = ImageDataGenerator(rescale=1./255,\n",
        "                                   shear_range=0.2,\n",
        "                                   zoom_range=0.2,\n",
        "                                   horizontal_flip=True)\n",
        "test_datagen=ImageDataGenerator(rescale=1./255)"
      ],
      "metadata": {
        "id": "S9ys3jYUiYHO"
      },
      "execution_count": 3,
      "outputs": []
    },
    {
      "cell_type": "markdown",
      "source": [
        "Loading our given data and performing data agumentation"
      ],
      "metadata": {
        "id": "UK8kZL7qixGF"
      }
    },
    {
      "cell_type": "code",
      "source": [
        "x_train = train_datagen.flow_from_directory(r'/content/drive/MyDrive/IBM gesture/gesture/train/train',\n",
        "                                            target_size=(64, 64),\n",
        "                                            batch_size=3,\n",
        "                                            color_mode='grayscale',\n",
        "                                            class_mode='categorical')\n"
      ],
      "metadata": {
        "colab": {
          "base_uri": "https://localhost:8080/"
        },
        "id": "fFGH8HCNi5sL",
        "outputId": "a70af361-4f34-4976-e876-d85124e00b92"
      },
      "execution_count": 4,
      "outputs": [
        {
          "output_type": "stream",
          "name": "stdout",
          "text": [
            "Found 594 images belonging to 6 classes.\n"
          ]
        }
      ]
    },
    {
      "cell_type": "code",
      "source": [
        "x_test = test_datagen.flow_from_directory(r'/content/drive/MyDrive/IBM gesture/gesture/test/test',\n",
        "                                          target_size=(64, 64),\n",
        "                                          batch_size=3,\n",
        "                                          color_mode='grayscale',\n",
        "                                          class_mode='categorical') "
      ],
      "metadata": {
        "colab": {
          "base_uri": "https://localhost:8080/"
        },
        "id": "_Y3RxD1Un1ZQ",
        "outputId": "3b8460dc-f652-4e9d-9d8c-ba2cee1834a6"
      },
      "execution_count": 5,
      "outputs": [
        {
          "output_type": "stream",
          "name": "stdout",
          "text": [
            "Found 30 images belonging to 6 classes.\n"
          ]
        }
      ]
    },
    {
      "cell_type": "code",
      "source": [
        "print(x_train.class_indices)"
      ],
      "metadata": {
        "colab": {
          "base_uri": "https://localhost:8080/"
        },
        "id": "DLozrEOd3pGn",
        "outputId": "a2157066-a038-48bb-b414-4a928cdcc321"
      },
      "execution_count": 6,
      "outputs": [
        {
          "output_type": "stream",
          "name": "stdout",
          "text": [
            "{'0': 0, '1': 1, '2': 2, '3': 3, '4': 4, '5': 5}\n"
          ]
        }
      ]
    },
    {
      "cell_type": "markdown",
      "source": [
        "Model Creation"
      ],
      "metadata": {
        "id": "n5ylDWKqpOys"
      }
    },
    {
      "cell_type": "code",
      "source": [
        "model = Sequential()"
      ],
      "metadata": {
        "id": "HIb7bMgLowJN"
      },
      "execution_count": 7,
      "outputs": []
    },
    {
      "cell_type": "code",
      "source": [
        "model.add(Convolution2D(32, (3, 3), input_shape=(64, 64, 1), activation='relu'))\n",
        "model.add(MaxPooling2D(pool_size=(2, 2)))"
      ],
      "metadata": {
        "id": "DYCRXKOrowLm"
      },
      "execution_count": 8,
      "outputs": []
    },
    {
      "cell_type": "code",
      "source": [
        "\n",
        "model.add(Flatten())\n",
        "model.add(Dense(units=512 , activation='relu'))\n",
        "model.add(Dense(units=6, activation='softmax')) \n",
        "model.summary()\n"
      ],
      "metadata": {
        "colab": {
          "base_uri": "https://localhost:8080/"
        },
        "id": "sYowUpozpYBu",
        "outputId": "83aa6ff6-c6c6-4302-dbae-25800dd88f9b"
      },
      "execution_count": 9,
      "outputs": [
        {
          "output_type": "stream",
          "name": "stdout",
          "text": [
            "Model: \"sequential\"\n",
            "_________________________________________________________________\n",
            " Layer (type)                Output Shape              Param #   \n",
            "=================================================================\n",
            " conv2d (Conv2D)             (None, 62, 62, 32)        320       \n",
            "                                                                 \n",
            " max_pooling2d (MaxPooling2D  (None, 31, 31, 32)       0         \n",
            " )                                                               \n",
            "                                                                 \n",
            " flatten (Flatten)           (None, 30752)             0         \n",
            "                                                                 \n",
            " dense (Dense)               (None, 512)               15745536  \n",
            "                                                                 \n",
            " dense_1 (Dense)             (None, 6)                 3078      \n",
            "                                                                 \n",
            "=================================================================\n",
            "Total params: 15,748,934\n",
            "Trainable params: 15,748,934\n",
            "Non-trainable params: 0\n",
            "_________________________________________________________________\n"
          ]
        }
      ]
    },
    {
      "cell_type": "markdown",
      "source": [
        "Model Compilation"
      ],
      "metadata": {
        "id": "sKl6wYtsp27P"
      }
    },
    {
      "cell_type": "code",
      "source": [
        "model.compile(optimizer='adam', loss='categorical_crossentropy', metrics=['accuracy'])"
      ],
      "metadata": {
        "id": "accmxgx5pYEO"
      },
      "execution_count": 10,
      "outputs": []
    },
    {
      "cell_type": "markdown",
      "source": [
        "Model fitting"
      ],
      "metadata": {
        "id": "bRHotIzW35Gp"
      }
    },
    {
      "cell_type": "code",
      "source": [
        "model.fit_generator(x_train,\n",
        "                    steps_per_epoch = 594/3 , \n",
        "                    epochs = 25, \n",
        "                    validation_data = x_test,\n",
        "                    validation_steps = 30/3 )"
      ],
      "metadata": {
        "colab": {
          "base_uri": "https://localhost:8080/"
        },
        "id": "oiDpPji10qPK",
        "outputId": "ff0b5d97-0046-4be1-93eb-9365c39d7cd0"
      },
      "execution_count": 11,
      "outputs": [
        {
          "output_type": "stream",
          "name": "stderr",
          "text": [
            "/usr/local/lib/python3.7/dist-packages/ipykernel_launcher.py:5: UserWarning: `Model.fit_generator` is deprecated and will be removed in a future version. Please use `Model.fit`, which supports generators.\n",
            "  \"\"\"\n"
          ]
        },
        {
          "output_type": "stream",
          "name": "stdout",
          "text": [
            "Epoch 1/25\n",
            "198/198 [==============================] - 392s 2s/step - loss: 1.6118 - accuracy: 0.4192 - val_loss: 0.7537 - val_accuracy: 0.7000\n",
            "Epoch 2/25\n",
            "198/198 [==============================] - 2s 11ms/step - loss: 0.7279 - accuracy: 0.7104 - val_loss: 1.3398 - val_accuracy: 0.4667\n",
            "Epoch 3/25\n",
            "198/198 [==============================] - 2s 11ms/step - loss: 0.5905 - accuracy: 0.7542 - val_loss: 0.5583 - val_accuracy: 0.8000\n",
            "Epoch 4/25\n",
            "198/198 [==============================] - 2s 11ms/step - loss: 0.4499 - accuracy: 0.8350 - val_loss: 0.6427 - val_accuracy: 0.7333\n",
            "Epoch 5/25\n",
            "198/198 [==============================] - 2s 11ms/step - loss: 0.3705 - accuracy: 0.8687 - val_loss: 0.4880 - val_accuracy: 0.8000\n",
            "Epoch 6/25\n",
            "198/198 [==============================] - 2s 11ms/step - loss: 0.3363 - accuracy: 0.8552 - val_loss: 0.4798 - val_accuracy: 0.8667\n",
            "Epoch 7/25\n",
            "198/198 [==============================] - 2s 11ms/step - loss: 0.2562 - accuracy: 0.9024 - val_loss: 0.5259 - val_accuracy: 0.8333\n",
            "Epoch 8/25\n",
            "198/198 [==============================] - 2s 11ms/step - loss: 0.3143 - accuracy: 0.8855 - val_loss: 0.5743 - val_accuracy: 0.8333\n",
            "Epoch 9/25\n",
            "198/198 [==============================] - 2s 11ms/step - loss: 0.2205 - accuracy: 0.9158 - val_loss: 0.4568 - val_accuracy: 0.9000\n",
            "Epoch 10/25\n",
            "198/198 [==============================] - 2s 11ms/step - loss: 0.1997 - accuracy: 0.9293 - val_loss: 0.4484 - val_accuracy: 0.9000\n",
            "Epoch 11/25\n",
            "198/198 [==============================] - 2s 11ms/step - loss: 0.2194 - accuracy: 0.9057 - val_loss: 0.6278 - val_accuracy: 0.8333\n",
            "Epoch 12/25\n",
            "198/198 [==============================] - 2s 12ms/step - loss: 0.1508 - accuracy: 0.9461 - val_loss: 0.5592 - val_accuracy: 0.9333\n",
            "Epoch 13/25\n",
            "198/198 [==============================] - 2s 12ms/step - loss: 0.2054 - accuracy: 0.9175 - val_loss: 0.5883 - val_accuracy: 0.8667\n",
            "Epoch 14/25\n",
            "198/198 [==============================] - 2s 12ms/step - loss: 0.1206 - accuracy: 0.9512 - val_loss: 0.5850 - val_accuracy: 0.8667\n",
            "Epoch 15/25\n",
            "198/198 [==============================] - 2s 11ms/step - loss: 0.1145 - accuracy: 0.9545 - val_loss: 0.4705 - val_accuracy: 0.9333\n",
            "Epoch 16/25\n",
            "198/198 [==============================] - 2s 11ms/step - loss: 0.0998 - accuracy: 0.9680 - val_loss: 0.7496 - val_accuracy: 0.8667\n",
            "Epoch 17/25\n",
            "198/198 [==============================] - 2s 11ms/step - loss: 0.1037 - accuracy: 0.9697 - val_loss: 0.2301 - val_accuracy: 0.9333\n",
            "Epoch 18/25\n",
            "198/198 [==============================] - 2s 11ms/step - loss: 0.1084 - accuracy: 0.9613 - val_loss: 0.2686 - val_accuracy: 0.9667\n",
            "Epoch 19/25\n",
            "198/198 [==============================] - 2s 11ms/step - loss: 0.1078 - accuracy: 0.9630 - val_loss: 0.2635 - val_accuracy: 0.9667\n",
            "Epoch 20/25\n",
            "198/198 [==============================] - 2s 11ms/step - loss: 0.1056 - accuracy: 0.9613 - val_loss: 0.4115 - val_accuracy: 0.8667\n",
            "Epoch 21/25\n",
            "198/198 [==============================] - 2s 11ms/step - loss: 0.1079 - accuracy: 0.9545 - val_loss: 0.4894 - val_accuracy: 0.8667\n",
            "Epoch 22/25\n",
            "198/198 [==============================] - 2s 11ms/step - loss: 0.0752 - accuracy: 0.9731 - val_loss: 0.5012 - val_accuracy: 0.9000\n",
            "Epoch 23/25\n",
            "198/198 [==============================] - 2s 11ms/step - loss: 0.0888 - accuracy: 0.9714 - val_loss: 0.3609 - val_accuracy: 0.8667\n",
            "Epoch 24/25\n",
            "198/198 [==============================] - 2s 12ms/step - loss: 0.0429 - accuracy: 0.9899 - val_loss: 0.5053 - val_accuracy: 0.9000\n",
            "Epoch 25/25\n",
            "198/198 [==============================] - 2s 12ms/step - loss: 0.0497 - accuracy: 0.9832 - val_loss: 0.3076 - val_accuracy: 0.9333\n"
          ]
        },
        {
          "output_type": "execute_result",
          "data": {
            "text/plain": [
              "<keras.callbacks.History at 0x7fbbfe897c90>"
            ]
          },
          "metadata": {},
          "execution_count": 11
        }
      ]
    },
    {
      "cell_type": "code",
      "source": [
        "model.save('hand.h5')"
      ],
      "metadata": {
        "id": "snw6JdZS1KSM"
      },
      "execution_count": 12,
      "outputs": []
    },
    {
      "cell_type": "code",
      "source": [
        "model_json = model.to_json()\n",
        "with open(\"model-bw.json\", \"w\") as json_file:\n",
        "    json_file.write(model_json)"
      ],
      "metadata": {
        "id": "eCV1qAL-1OIi"
      },
      "execution_count": 13,
      "outputs": []
    }
  ]
}